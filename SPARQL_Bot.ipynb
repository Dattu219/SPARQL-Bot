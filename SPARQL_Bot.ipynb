{
  "cells": [
    {
      "cell_type": "markdown",
      "metadata": {
        "id": "view-in-github",
        "colab_type": "text"
      },
      "source": [
        "<a href=\"https://colab.research.google.com/github/Dattu219/SPARQL-Bot/blob/main/SPARQL_Bot.ipynb\" target=\"_parent\"><img src=\"https://colab.research.google.com/assets/colab-badge.svg\" alt=\"Open In Colab\"/></a>"
      ]
    },
    {
      "cell_type": "markdown",
      "metadata": {
        "id": "nvRGTQNSG1Dr"
      },
      "source": [
        "# ***Chatbot for natural language understanding over linked data***\n"
      ]
    },
    {
      "cell_type": "markdown",
      "metadata": {
        "id": "ihiSYtSKJH-f"
      },
      "source": [
        "\n",
        "\n",
        "---\n",
        "\n",
        "\n",
        "With the rapid progress of the semantic web, a huge amount of structured data \n",
        "has become available on the web in the form of knowledge bases (KBs). Making these data accessible and useful for end-users is one of the main objectives of chatbots over linked data. Building a chatbot over linked data raises different challenges, including user queries understanding, multiple knowledge base support, and multilingual aspect. To address these challenges, we first design and develop an architecture to provide an interactive user interface. Secondly, we propose a machine learning approach based on intent classification and natural language understanding to understand user intents and generate SPARQL queries.The system can be extended with a new domain on-demand, flexible, multiple knowledge base, multilingual, and allows intuitive creation and execution of different tasks for an extensive range of topics. Furthermore, evaluation and application cases in the chatbot are provided to show how it facilitates interactive semantic data towards different real application scenarios and showcase the proposed approach for a knowledge graph and data-driven chatbot.\n",
        "\n",
        "---"
      ]
    },
    {
      "cell_type": "markdown",
      "metadata": {
        "id": "fI0HLSdr9vU6"
      },
      "source": [
        "# Requirements"
      ]
    },
    {
      "cell_type": "markdown",
      "source": [
        "Before mounting google drive you need to put following directories in Colab Notebooks folder in google drive.\n",
        "\n",
        "1. data\n",
        "2. static\n",
        "3. templates"
      ],
      "metadata": {
        "id": "2KiYTSkugJit"
      }
    },
    {
      "cell_type": "code",
      "execution_count": null,
      "metadata": {
        "id": "pgkjUKz9SNku"
      },
      "outputs": [],
      "source": [
        "from google.colab import drive\n",
        "drive.mount('/content/drive')"
      ]
    },
    {
      "cell_type": "code",
      "execution_count": null,
      "metadata": {
        "id": "L_LvyBfpVak5"
      },
      "outputs": [],
      "source": [
        "!python -m spacy download en_core_web_sm"
      ]
    },
    {
      "cell_type": "code",
      "execution_count": null,
      "metadata": {
        "id": "udzTL6uDlIxW"
      },
      "outputs": [],
      "source": [
        "!pip install sparqlwrapper\n",
        "!pip install vocabulary"
      ]
    },
    {
      "cell_type": "code",
      "execution_count": null,
      "metadata": {
        "id": "NqJOtb3XXJTg"
      },
      "outputs": [],
      "source": [
        "!pip install chatterbot\n",
        "!pip install chatterbot-corpus"
      ]
    },
    {
      "cell_type": "code",
      "execution_count": null,
      "metadata": {
        "id": "F8hSA5k7Y47l"
      },
      "outputs": [],
      "source": [
        "!pip install flask-ngrok"
      ]
    },
    {
      "cell_type": "code",
      "source": [
        "import nltk\n",
        "nltk.download('averaged_perceptron_tagger')\n",
        "nltk.download('maxent_ne_chunker')\n",
        "nltk.download('words')\n",
        "nltk.download('punkt')\n",
        "nltk.download('stopwords')\n",
        "nltk.download('wordnet')"
      ],
      "metadata": {
        "id": "rlfCUjbGf4hA"
      },
      "execution_count": null,
      "outputs": []
    },
    {
      "cell_type": "markdown",
      "metadata": {
        "id": "g8rzQrxZOx_c"
      },
      "source": [
        "# Intent Classification"
      ]
    },
    {
      "cell_type": "code",
      "source": [
        "import spacy\n",
        "import json\n",
        "import io\n",
        "import pickle\n",
        "import numpy as np\n",
        "from sklearn.utils import shuffle\n",
        "from sklearn.model_selection import GridSearchCV\n",
        "from sklearn.svm import SVC\n",
        "from sklearn.preprocessing import LabelEncoder"
      ],
      "metadata": {
        "id": "nU0MMhDeeL53"
      },
      "execution_count": null,
      "outputs": []
    },
    {
      "cell_type": "code",
      "source": [
        "# Files to be used\n",
        "INDEX_TO_LABEL_FILE_PATH = \"/content/drive/MyDrive/Colab Notebooks/data/index_to_label.json\"\n",
        "DATA_PATH = \"/content/drive/MyDrive/Colab Notebooks/data/LabelledData.txt\"\n",
        "MODEL_PATH = \"/content/drive/MyDrive/Colab Notebooks/data/intent_classifier.p\""
      ],
      "metadata": {
        "id": "ZpDwUBJ_ePkt"
      },
      "execution_count": null,
      "outputs": []
    },
    {
      "cell_type": "code",
      "source": [
        "spacy_model = spacy.load('en_core_web_sm')"
      ],
      "metadata": {
        "id": "ekRfDGUQeUY2"
      },
      "execution_count": null,
      "outputs": []
    },
    {
      "cell_type": "code",
      "execution_count": null,
      "metadata": {
        "id": "bRkgiof7Ormd"
      },
      "outputs": [],
      "source": [
        "class DataHelper:\n",
        "    '''\n",
        "        DataHelper class is used to take text file containing intents, labels as input\n",
        "        and convert them to required json labels to be used for intent classification.\n",
        "    '''\n",
        "\n",
        "    index_to_label_dict = None\n",
        "\n",
        "    @classmethod\n",
        "    def get_index_label_dict(self):\n",
        "        '''\n",
        "            get_index_label_dict function is used to create a dictionary if not already\n",
        "            present and return it.\n",
        "        '''\n",
        "        if self.index_to_label_dict is None:\n",
        "            try:\n",
        "                with open(INDEX_TO_LABEL_FILE_PATH) as json_data:\n",
        "                    self.index_to_label_dict = json.load(json_data)\n",
        "            except:\n",
        "                print(\"Unable to read index to index to label dict\")\n",
        "        \n",
        "        return self.index_to_label_dict\n",
        "\n",
        "    @classmethod\n",
        "    def get_data_and_labels(self):\n",
        "        '''\n",
        "            get_data_and_labels function is used to extract intents and their labels from\n",
        "            text file.\n",
        "        '''\n",
        "\n",
        "        with io.open(DATA_PATH,\"r\",encoding=\"utf-8\") as f:\n",
        "            x_data = []\n",
        "            y_data = []\n",
        "            for line in f:\n",
        "                if(line.__contains__(\",,,\") and len(line.split(\",,,\")) == 2):\n",
        "                    line_splitted = line.split(\",,,\")\n",
        "                    x = line_splitted[0].strip()\n",
        "                    y = line_splitted[1].strip()\n",
        "                    x_lemmatized = DataHelper.lemmatize(x)\n",
        "                    x_data.append(np.array(spacy_model(x_lemmatized).vector))\n",
        "                    y_data.append(y)\n",
        "        \n",
        "        return x_data,y_data\n",
        "\n",
        "    @classmethod\n",
        "    def lemmatize(self,text):\n",
        "        '''\n",
        "            lemmatize function is used to lemmatize the given sentence.\n",
        "        '''\n",
        "\n",
        "        sent = []\n",
        "        doc = spacy_model(text)\n",
        "        for word in doc:\n",
        "            sent.append(word.lemma_)\n",
        "\n",
        "        return \" \".join(sent)\n",
        "\n",
        "    @classmethod\n",
        "    def save_index_to_label_mapping(self,label_indexes,le):\n",
        "        '''\n",
        "            save_index_to_label_mapping function is used to create a json file containing\n",
        "            labels.\n",
        "        '''\n",
        "        \n",
        "        index_to_label_dict = {}\n",
        "        label_indexes_list = list(set(label_indexes))\n",
        "        labels_list = le.inverse_transform(label_indexes_list)\n",
        "        for i in range(len(labels_list)):\n",
        "            index_to_label_dict[str(label_indexes_list[i])] = labels_list[i]\n",
        "\n",
        "        with open(INDEX_TO_LABEL_FILE_PATH, 'w') as outfile:\n",
        "            json.dump(index_to_label_dict, outfile)"
      ]
    },
    {
      "cell_type": "code",
      "execution_count": null,
      "metadata": {
        "id": "GPszRhetRB_K"
      },
      "outputs": [],
      "source": [
        "class IntentClassifier:\n",
        "    '''\n",
        "        IntentClassifier class is used to train the model using SVC and predict the\n",
        "        intents for the given input sentences.\n",
        "    '''\n",
        "\n",
        "    classifier = None\n",
        "\n",
        "    @classmethod\n",
        "    def get_svm_config(self):\n",
        "        '''\n",
        "            get_svm_config function is used to set GridSearch configurations.\n",
        "        '''\n",
        "\n",
        "        config = {\n",
        "            \"kernel\": \"linear\",\n",
        "            \"C\": [1,2,5,10,20,100]\n",
        "        }\n",
        "        return config\n",
        "\n",
        "    @classmethod\n",
        "    def train(self):\n",
        "        '''\n",
        "            train function is used to train the model using SVC.\n",
        "        '''\n",
        "\n",
        "        X, labels = DataHelper.get_data_and_labels()\n",
        "        X, labels = shuffle(X,labels)\n",
        "        le = LabelEncoder()\n",
        "        y = le.fit_transform(labels)\n",
        "\n",
        "        DataHelper.save_index_to_label_mapping(y,le)\n",
        "\n",
        "        sklearn_config = IntentClassifier.get_svm_config()\n",
        "        C = sklearn_config.get(\"C\")\n",
        "        kernel = sklearn_config.get(\"kernel\")\n",
        "\n",
        "        tuned_parameters = [{\"C\": C, \"kernel\": [str(kernel)]}]\n",
        "\n",
        "        clf = GridSearchCV(SVC(probability=True, class_weight='balanced',decision_function_shape='ovr'),\n",
        "                                param_grid=tuned_parameters,\n",
        "                                cv=5, scoring='f1_weighted', verbose=1)\n",
        "        clf.fit(X, y)\n",
        "        print(\"best params : {} , best F1: {}\".format(clf.best_params_,clf.best_score_))\n",
        "        f = open(MODEL_PATH, 'wb')\n",
        "        pickle.dump(clf, f)\n",
        "        f.close()\n",
        "        return clf\n",
        "\n",
        "    @classmethod\n",
        "    def get_classifier(self):\n",
        "        '''\n",
        "            get_classifier function is used to load the classifier.\n",
        "        '''\n",
        "\n",
        "        if(self.classifier is None):\n",
        "            print(\"Loading classifier\")\n",
        "            try:\n",
        "                f = open(MODEL_PATH, 'rb')   # 'rb' for reading binary file\n",
        "                self.classifier = pickle.load(f)\n",
        "                print(\"Loaded classifier\")\n",
        "                f.close()\n",
        "            except:\n",
        "                print(\"Exception in loading classifier\")\n",
        "        return self.classifier\n",
        "\n",
        "    @classmethod\n",
        "    def predict(self,query):\n",
        "        '''\n",
        "            predict function is used to take sentence as input and returns the intents.\n",
        "        '''\n",
        "\n",
        "        model = self.get_classifier()\n",
        "        if(model is not None):\n",
        "            query_lemmatized = DataHelper.lemmatize(str(query))\n",
        "            prediction = model.predict_proba(np.array(spacy_model(query_lemmatized).vector).reshape(1,96))\n",
        "            index_to_label_dict = DataHelper.get_index_label_dict()\n",
        "            label_index = np.argmax(prediction)\n",
        "            label = index_to_label_dict[str(label_index)]\n",
        "            class_score = prediction[0][label_index]\n",
        "            return {\"label\":label,\n",
        "                    \"probability\":class_score}\n",
        "        else:\n",
        "            print(\"Unable to load classifier\")"
      ]
    },
    {
      "cell_type": "code",
      "execution_count": null,
      "metadata": {
        "colab": {
          "base_uri": "https://localhost:8080/"
        },
        "id": "UnMvjndhOt1J",
        "outputId": "3ddf7ff2-adc6-4fc0-fb0a-01373a9f9a11"
      },
      "outputs": [
        {
          "output_type": "stream",
          "name": "stdout",
          "text": [
            "Fitting 5 folds for each of 6 candidates, totalling 30 fits\n",
            "best params : {'C': 1, 'kernel': 'linear'} , best F1: 0.8655177800304864\n"
          ]
        },
        {
          "output_type": "execute_result",
          "data": {
            "text/plain": [
              "GridSearchCV(cv=5, estimator=SVC(class_weight='balanced', probability=True),\n",
              "             param_grid=[{'C': [1, 2, 5, 10, 20, 100], 'kernel': ['linear']}],\n",
              "             scoring='f1_weighted', verbose=1)"
            ]
          },
          "metadata": {},
          "execution_count": 7
        }
      ],
      "source": [
        "# Training the model\n",
        "IntentClassifier.train()"
      ]
    },
    {
      "cell_type": "code",
      "source": [
        "# Example for intent classification\n",
        "print(IntentClassifier.predict(\"Who is alan turing\")['label'])"
      ],
      "metadata": {
        "colab": {
          "base_uri": "https://localhost:8080/"
        },
        "id": "1GADsZOqedBP",
        "outputId": "b3d348dd-d4fd-42b8-ee70-f5a69369d198"
      },
      "execution_count": null,
      "outputs": [
        {
          "output_type": "stream",
          "name": "stdout",
          "text": [
            "Loading classifier\n",
            "Loaded classifier\n",
            "who\n"
          ]
        }
      ]
    },
    {
      "cell_type": "markdown",
      "metadata": {
        "id": "ixt6pCvLO5CR"
      },
      "source": [
        "# Named Entity Recognition"
      ]
    },
    {
      "cell_type": "code",
      "execution_count": null,
      "metadata": {
        "id": "BPRXX2nEO-cO"
      },
      "outputs": [],
      "source": [
        "class NER:\n",
        "    '''\n",
        "        NER class is used to get the named entities for given input sentences.\n",
        "    '''\n",
        "\n",
        "    @classmethod\n",
        "    def parts_of_speech(self,message,query_properties):\n",
        "        '''\n",
        "            parts_of_speech function is used to identify parts of speech and query\n",
        "            properies for given input message.\n",
        "        '''\n",
        "        \n",
        "        sentences = nltk.sent_tokenize(message)\n",
        "        tokenized = [nltk.word_tokenize(sentence) for sentence in sentences]\n",
        "        pos_tags = [nltk.pos_tag(sentence) for sentence in tokenized]\n",
        "        print('pos tags:',pos_tags[0])\n",
        "\n",
        "        for name, tag in pos_tags[0]:\n",
        "            if tag == 'NN':\n",
        "                name = name.split(\"-\")\n",
        "                name = \" \".join(name)\n",
        "                query_properties.append(name)\n",
        "        print('query_proprties:',query_properties)\n",
        "        chunked_sents = nltk.ne_chunk_sents(pos_tags, binary=True)\n",
        "\n",
        "        return chunked_sents\n",
        "\n",
        "    @classmethod\n",
        "    def traverse(self,tree):\n",
        "        '''\n",
        "            traverse function is used to traverse over the tree to find entities.\n",
        "        '''\n",
        "        \n",
        "        entity_names=[]\n",
        "        if hasattr(tree, 'label') and tree.label:\n",
        "            if tree.label()=='NE':\n",
        "                entity_names.append(' '.join([child[0] for child in tree]))\n",
        "            else:\n",
        "                for child in tree:\n",
        "                    entity_names.extend(self.traverse(child))\n",
        "        \n",
        "        return entity_names\n",
        "\n",
        "    @classmethod\n",
        "    def named_entities(self,message):\n",
        "        '''\n",
        "            named_entities function uses parts_of_speech and traverse methods and identifies\n",
        "            named entities.\n",
        "        '''\n",
        "        \n",
        "        # Identifying Parts of Speech\n",
        "        query_properties=[]\n",
        "        chunks=self.parts_of_speech(message,query_properties)\n",
        "\n",
        "        entities=[]\n",
        "        for chunk in chunks:\n",
        "            temp=sorted(list(set([word for tree in chunk for word in self.traverse(tree)])))\n",
        "            for e in temp:\n",
        "                if e not in entities:\n",
        "                    entities.append(e)\n",
        "        \n",
        "        return entities,query_properties"
      ]
    },
    {
      "cell_type": "code",
      "execution_count": null,
      "metadata": {
        "colab": {
          "base_uri": "https://localhost:8080/"
        },
        "id": "lU1LrxVwPF6B",
        "outputId": "49ecf647-c53d-4606-eaa0-9f515a4e044b"
      },
      "outputs": [
        {
          "output_type": "stream",
          "name": "stdout",
          "text": [
            "pos tags: [('Who', 'WP'), ('invented', 'VBD'), ('Turing', 'NNP'), ('machine', 'NN')]\n",
            "query_proprties: ['machine']\n"
          ]
        },
        {
          "output_type": "execute_result",
          "data": {
            "text/plain": [
              "(['Turing'], ['machine'])"
            ]
          },
          "metadata": {},
          "execution_count": 10
        }
      ],
      "source": [
        "# Example for named entity recognition\n",
        "NER.named_entities('Who invented Turing machine')"
      ]
    },
    {
      "cell_type": "markdown",
      "metadata": {
        "id": "lc6ZHGTdPIRe"
      },
      "source": [
        "# Keyword Extraction"
      ]
    },
    {
      "cell_type": "code",
      "source": [
        "import re\n",
        "import math\n",
        "import operator\n",
        "from nltk.stem import WordNetLemmatizer\n",
        "from nltk.corpus import stopwords\n",
        "from nltk.tokenize import sent_tokenize, word_tokenize"
      ],
      "metadata": {
        "id": "cjnaMT2iet-7"
      },
      "execution_count": null,
      "outputs": []
    },
    {
      "cell_type": "code",
      "source": [
        "Stopwords = set(stopwords.words('english'))\n",
        "wordlemmatizer = WordNetLemmatizer()"
      ],
      "metadata": {
        "id": "Mw86fNZ7eyWj"
      },
      "execution_count": null,
      "outputs": []
    },
    {
      "cell_type": "code",
      "execution_count": null,
      "metadata": {
        "id": "Ickf5cD6PMfC"
      },
      "outputs": [],
      "source": [
        "class KE:\n",
        "    '''\n",
        "        KE class is used to identify main keywords in given input sentences.\n",
        "    '''\n",
        "\n",
        "    @classmethod\n",
        "    def lemmatize_words(self,words):\n",
        "        '''\n",
        "            lemmatize_words function is used to lemmatize the given input sentence.\n",
        "        '''\n",
        "        \n",
        "        lemmatized_words = []\n",
        "        for word in words:\n",
        "            lemmatized_words.append(wordlemmatizer.lemmatize(word))\n",
        "        \n",
        "        return lemmatized_words\n",
        "\n",
        "    @classmethod\n",
        "    def keywords(self,text):\n",
        "        '''\n",
        "            keywords function is used to extract main keywords from given input sentence.\n",
        "        '''\n",
        "        \n",
        "        tokenized_words_with_stopwords = word_tokenize(text)\n",
        "        tokenized_words = [word for word in tokenized_words_with_stopwords if word not in Stopwords]\n",
        "        tokenized_words = [word for word in tokenized_words if len(word) > 1]\n",
        "        tokenized_words = [word.lower() for word in tokenized_words]\n",
        "        tokenized_words = self.lemmatize_words(tokenized_words)\n",
        "        return tokenized_words"
      ]
    },
    {
      "cell_type": "code",
      "execution_count": null,
      "metadata": {
        "colab": {
          "base_uri": "https://localhost:8080/"
        },
        "id": "2jPPnA38Py4m",
        "outputId": "a88b1b0d-0399-42ac-bfc2-6400d64a1fb2"
      },
      "outputs": [
        {
          "output_type": "execute_result",
          "data": {
            "text/plain": [
              "['who', 'alan', 'turing']"
            ]
          },
          "metadata": {},
          "execution_count": 14
        }
      ],
      "source": [
        "# Example for keyword extraction\n",
        "KE.keywords(\"Who is Alan Turing\")"
      ]
    },
    {
      "cell_type": "markdown",
      "metadata": {
        "id": "fEAJ7lYgP1FX"
      },
      "source": [
        "# SPARQL Query Generation"
      ]
    },
    {
      "cell_type": "code",
      "source": [
        "from SPARQLWrapper import SPARQLWrapper as sq, JSON\n",
        "from vocabulary.vocabulary import Vocabulary as vb"
      ],
      "metadata": {
        "id": "CwwNL-Eie4h_"
      },
      "execution_count": null,
      "outputs": []
    },
    {
      "cell_type": "code",
      "execution_count": null,
      "metadata": {
        "id": "OoSoJ1gKP78f"
      },
      "outputs": [],
      "source": [
        "class SPARQL:\n",
        "    '''\n",
        "        SPARQL class is used to take intents, named entities, keywords and query properties as\n",
        "        input and based on them it creates two sparql quries for dbpedia, wikidata and execute\n",
        "        them to retrive response from respective sites.\n",
        "    '''\n",
        "\n",
        "    @classmethod\n",
        "    def question_to_sparql(self,intents,named_entity,keywords,query_properties):\n",
        "        # Detecting property codes of wikidata\n",
        "        property_code = []\n",
        "        if len(query_properties) != 0:\n",
        "            properties = open('/content/drive/MyDrive/Colab Notebooks/data/query.json', 'r')\n",
        "            properties = json.load(properties)\n",
        "            noun = query_properties[0]\n",
        "            noun_synonyms = vb.synonym(noun, format=\"dict\")\n",
        "\n",
        "            for p, prop in list(properties.items()):\n",
        "                if prop == noun:\n",
        "                    property_code.append(p)\n",
        "                    break\n",
        "\n",
        "            if len(property_code) == 0:\n",
        "                for p, prop in list(properties.items()):\n",
        "                    if type(noun_synonyms) != bool:\n",
        "                        for synonym in noun_synonyms.values():\n",
        "                            if prop == synonym:\n",
        "                                property_code.append(p)\n",
        "                                break\n",
        "            print('property_code:',property_code)\n",
        "\n",
        "        if len(named_entity) != 0:\n",
        "            # Creating SPARQL quries\n",
        "            if len(property_code) != 0:\n",
        "                flag = 0\n",
        "                sparql = sq(\"https://query.wikidata.org/sparql\")\n",
        "                query = \"\"\"SELECT ?label ?property ?thumbnail WHERE\n",
        "                            { \n",
        "                            ?entity rdfs:label ?label .\n",
        "                            ?entity wdt:\"\"\" + property_code[0] + \"\"\" ?property_id .\n",
        "                            ?property_id rdfs:label ?property .\n",
        "                            OPTIONAL { ?property_id wdt:P18 ?thumbnail .}\n",
        "                            FILTER (STR(?label) = '\"\"\" + named_entity[0] + \"\"\"') .\n",
        "                            FILTER (LANG(?property) = \"en\")\n",
        "                            }\"\"\"\n",
        "                print('query:',query)\n",
        "            else:\n",
        "                flag = 1\n",
        "                sparql = sq(\"https://dbpedia.org/sparql\")\n",
        "                query = \"\"\"SELECT ?label ?description ?thumbnail WHERE\n",
        "                    { \n",
        "                    ?entity rdfs:label ?label .\n",
        "                    ?entity dbo:abstract ?description .\n",
        "                    ?entity dbo:thumbnail ?thumbnail .\n",
        "                    FILTER (STR(?label) = '\"\"\" + named_entity[0] + \"\"\"' && LANG(?description) = \"en\") .\n",
        "                    }\n",
        "                    LIMIT 1\"\"\"\n",
        "                print('query:',query)\n",
        "\n",
        "            # Getting response from dbpedia or wikidata\n",
        "            sparql.setQuery(query)\n",
        "            sparql.setReturnFormat(JSON)\n",
        "            global result\n",
        "            result = list()\n",
        "            temp = str()\n",
        "            try:\n",
        "                results = sparql.query().convert()\n",
        "                print('results:',results)\n",
        "                if flag == 0:\n",
        "                    for data in results[\"results\"][\"bindings\"]:\n",
        "                        result.append(data[\"property\"][\"value\"])\n",
        "                        if \"thumbnail\" in data and data[\"thumbnail\"][\"value\"] != \"\":\n",
        "                            temp = data[\"thumbnail\"][\"value\"]\n",
        "                else:\n",
        "                    for data in results[\"results\"][\"bindings\"]:\n",
        "                        result.append(data[\"description\"][\"value\"])\n",
        "                        if \"thumbnail\" in data and data[\"thumbnail\"][\"value\"] != \"\":\n",
        "                            temp = data[\"thumbnail\"][\"value\"]\n",
        "\n",
        "                result = list(set(result))\n",
        "                response = []\n",
        "                for i in result:\n",
        "                    print(i)\n",
        "                    response.append(''.join(i).encode('utf-8'))\n",
        "            except:\n",
        "                response = [\"Unable to retrieve data\"]\n",
        "        else:\n",
        "            response = [\"Unable to retrieve data\"]\n",
        "\n",
        "        print('response:',response)\n",
        "        if response!=[\"Unable to retrieve data\"] and response!=[]:\n",
        "          response[0]=response[0].decode('utf-8')\n",
        "        return response"
      ]
    },
    {
      "cell_type": "markdown",
      "metadata": {
        "id": "Wi-MA7p5QJ14"
      },
      "source": [
        "# Text Summerization"
      ]
    },
    {
      "cell_type": "code",
      "execution_count": null,
      "metadata": {
        "id": "mYpp7kbgQM8D"
      },
      "outputs": [],
      "source": [
        "class TFIDF:\n",
        "    '''\n",
        "        TFIDF class is used to summerize the given input message using tf-idf.\n",
        "    '''\n",
        "\n",
        "    @classmethod\n",
        "    def remove_special_characters(self,text):\n",
        "        '''\n",
        "            remove_special_characters function is used remove special characters\n",
        "            from given input sentence.\n",
        "        '''\n",
        "\n",
        "        regex = r'[^a-zA-Z0-9\\s]'\n",
        "        text = re.sub(regex,'',text)\n",
        "\n",
        "        return text\n",
        "\n",
        "    @classmethod\n",
        "    def freq(self,words):\n",
        "        '''\n",
        "            freq function is used to count the word frequency.\n",
        "        '''\n",
        "\n",
        "        words = [word.lower() for word in words]\n",
        "        dict_freq = {}\n",
        "        words_unique = []\n",
        "        for word in words:\n",
        "            if word not in words_unique:\n",
        "                words_unique.append(word)\n",
        "        for word in words_unique:\n",
        "            dict_freq[word] = words.count(word)\n",
        "\n",
        "        return dict_freq\n",
        "    \n",
        "    @classmethod\n",
        "    def lemmatize_words(self,words):\n",
        "        '''\n",
        "            lemmatize_words function is used to lemmatize the given input sentence.\n",
        "        '''\n",
        "\n",
        "        lemmatized_words = []\n",
        "        for word in words:\n",
        "            lemmatized_words.append(wordlemmatizer.lemmatize(word))\n",
        "        \n",
        "        return lemmatized_words\n",
        "\n",
        "    @classmethod\n",
        "    def pos_tagging(self,text):\n",
        "        '''\n",
        "            pos_tagging function is used to identify parts of speech for given input sentence.\n",
        "        '''\n",
        "\n",
        "        pos_tag = nltk.pos_tag(text.split())\n",
        "        pos_tagged_noun_verb = []\n",
        "        for word,tag in pos_tag:\n",
        "            if tag == \"NN\" or tag == \"NNP\" or tag == \"NNS\" or tag == \"VB\" or tag == \"VBD\" or tag == \"VBG\" or tag == \"VBN\" or tag == \"VBP\" or tag == \"VBZ\":\n",
        "                pos_tagged_noun_verb.append(word)\n",
        "        \n",
        "        return pos_tagged_noun_verb\n",
        "\n",
        "    @classmethod\n",
        "    def tf_score(self,word,sentence):\n",
        "        '''\n",
        "            tf_score function is used to calculate text frequency score.\n",
        "        '''\n",
        "\n",
        "        word_frequency_in_sentence = 0\n",
        "        len_sentence = len(sentence)\n",
        "        for word_in_sentence in sentence.split():\n",
        "            if word == word_in_sentence:\n",
        "                word_frequency_in_sentence = word_frequency_in_sentence + 1\n",
        "        tf =  word_frequency_in_sentence/ len_sentence\n",
        "        \n",
        "        return tf\n",
        "\n",
        "    @classmethod\n",
        "    def idf_score(self,no_of_sentences,word,sentences):\n",
        "        '''\n",
        "            idf_score function is used to calculate inverse document frequency score.\n",
        "        '''\n",
        "\n",
        "        no_of_sentence_containing_word = 0\n",
        "        for sentence in sentences:\n",
        "            sentence = self.remove_special_characters(str(sentence))\n",
        "            sentence = re.sub(r'\\d+', '', sentence)\n",
        "            sentence = sentence.split()\n",
        "            sentence = [word for word in sentence if word.lower() not in Stopwords and len(word)>1]\n",
        "            sentence = [word.lower() for word in sentence]\n",
        "            sentence = [wordlemmatizer.lemmatize(word) for word in sentence]\n",
        "            if word in sentence:\n",
        "                no_of_sentence_containing_word = no_of_sentence_containing_word + 1\n",
        "        idf = math.log10(no_of_sentences/no_of_sentence_containing_word)\n",
        "        \n",
        "        return idf\n",
        "\n",
        "    @classmethod\n",
        "    def tf_idf_score(self,tf,idf):\n",
        "        return tf*idf\n",
        "\n",
        "    @classmethod\n",
        "    def word_tfidf(self,word,sentences,sentence):\n",
        "        tf = self.tf_score(word,sentence)\n",
        "        idf = self.idf_score(len(sentences),word,sentences)\n",
        "        tf_idf = self.tf_idf_score(tf,idf)\n",
        "        \n",
        "        return tf_idf\n",
        "\n",
        "    @classmethod\n",
        "    def sentence_importance(self,sentence,dict_freq,sentences):\n",
        "        '''\n",
        "            sentence_importance function is used to scores for each sentence.\n",
        "        '''\n",
        "\n",
        "        sentence_score = 0\n",
        "        sentence = self.remove_special_characters(str(sentence)) \n",
        "        sentence = re.sub(r'\\d+', '', sentence)\n",
        "        pos_tagged_sentence = self.pos_tagging(sentence)\n",
        "        for word in pos_tagged_sentence:\n",
        "            if word.lower() not in Stopwords and word not in Stopwords and len(word)>1: \n",
        "                    word = word.lower()\n",
        "                    word = wordlemmatizer.lemmatize(word)\n",
        "                    sentence_score = sentence_score + self.word_tfidf(word,sentences,sentence)\n",
        "        \n",
        "        return sentence_score\n",
        "\n",
        "    @classmethod\n",
        "    def tf_idf(self,text):\n",
        "        '''\n",
        "            tf_idf function is uses above methods by taking given input text and\n",
        "            returning summarized text.\n",
        "        '''\n",
        "\n",
        "        print('text:',text)\n",
        "        tokenized_sentence = sent_tokenize(text)\n",
        "        if len(tokenized_sentence)<=4:\n",
        "            return text\n",
        "        \n",
        "        tokenized_words_with_stopwords = word_tokenize(text)\n",
        "        tokenized_words = [word for word in tokenized_words_with_stopwords if word not in Stopwords]\n",
        "        tokenized_words = [word for word in tokenized_words if len(word) > 1]\n",
        "        tokenized_words = [word.lower() for word in tokenized_words]\n",
        "        tokenized_words = self.lemmatize_words(tokenized_words)\n",
        "        word_freq = self.freq(tokenized_words)\n",
        "        no_of_sentences = 2\n",
        "        c = 1\n",
        "        sentence_with_importance = {}\n",
        "        for sent in tokenized_sentence:\n",
        "            sentenceimp = self.sentence_importance(sent,word_freq,tokenized_sentence)\n",
        "            sentence_with_importance[c] = sentenceimp\n",
        "            c = c+1\n",
        "        sentence_with_importance = sorted(sentence_with_importance.items(), key=operator.itemgetter(1),reverse=True)\n",
        "        cnt = 0\n",
        "        summary = []\n",
        "        sentence_no = []\n",
        "        for word_prob in sentence_with_importance:\n",
        "            if cnt < no_of_sentences:\n",
        "                sentence_no.append(word_prob[0])\n",
        "                cnt = cnt+1\n",
        "            else:\n",
        "                break\n",
        "        sentence_no.sort()\n",
        "        cnt = 1\n",
        "        for i in range(2):\n",
        "            summary.append(tokenized_sentence[i])\n",
        "        for sentence in tokenized_sentence:\n",
        "            if cnt in sentence_no and sentence not in summary:\n",
        "                summary.append(sentence)\n",
        "            cnt = cnt+1\n",
        "        summary = \" \".join(summary)\n",
        "        \n",
        "        return str(summary)"
      ]
    },
    {
      "cell_type": "code",
      "source": [
        "text = \"Alan Mathison Turing OBE FRS (/ˈtjʊərɪŋ/; 23 June 1912 – 7 June 1954) was an English mathematician, computer scientist, logician, cryptanalyst, philosopher, and theoretical biologist. Turing was highly influential in the development of theoretical computer science, providing a formalisation of the concepts of algorithm and computation with the Turing machine, which can be considered a model of a general-purpose computer. Turing is widely considered to be the father of theoretical computer science and artificial intelligence. Born in Maida Vale, London, Turing was raised in southern England. He graduated at King's College, Cambridge, with a degree in mathematics. Whilst he was a fellow at Cambridge, he published a proof demonstrating that some purely mathematical yes–no questions can never be answered by computation and defined a Turing machine, and went on to prove the halting problem for Turing machines is undecidable. In 1938, he obtained his PhD from the Department of Mathematics at Princeton University. During the Second World War, Turing worked for the Government Code and Cypher School (GC&CS) at Bletchley Park, Britain's codebreaking centre that produced Ultra intelligence. For a time he led Hut 8, the section that was responsible for German naval cryptanalysis. Here, he devised a number of techniques for speeding the breaking of German ciphers, including improvements to the pre-war Polish bombe method, an electromechanical machine that could find settings for the Enigma machine. Turing played a crucial role in cracking intercepted coded messages that enabled the Allies to defeat the Axis powers in many crucial engagements, including the Battle of the Atlantic.\""
      ],
      "metadata": {
        "id": "3AVZM3Bse_qb"
      },
      "execution_count": null,
      "outputs": []
    },
    {
      "cell_type": "code",
      "execution_count": null,
      "metadata": {
        "colab": {
          "base_uri": "https://localhost:8080/",
          "height": 165
        },
        "id": "8Ng_uUN3Ws6z",
        "outputId": "443e6e20-2365-485d-8749-94d04297f2e4"
      },
      "outputs": [
        {
          "output_type": "stream",
          "name": "stdout",
          "text": [
            "text: Alan Mathison Turing OBE FRS (/ˈtjʊərɪŋ/; 23 June 1912 – 7 June 1954) was an English mathematician, computer scientist, logician, cryptanalyst, philosopher, and theoretical biologist. Turing was highly influential in the development of theoretical computer science, providing a formalisation of the concepts of algorithm and computation with the Turing machine, which can be considered a model of a general-purpose computer. Turing is widely considered to be the father of theoretical computer science and artificial intelligence. Born in Maida Vale, London, Turing was raised in southern England. He graduated at King's College, Cambridge, with a degree in mathematics. Whilst he was a fellow at Cambridge, he published a proof demonstrating that some purely mathematical yes–no questions can never be answered by computation and defined a Turing machine, and went on to prove the halting problem for Turing machines is undecidable. In 1938, he obtained his PhD from the Department of Mathematics at Princeton University. During the Second World War, Turing worked for the Government Code and Cypher School (GC&CS) at Bletchley Park, Britain's codebreaking centre that produced Ultra intelligence. For a time he led Hut 8, the section that was responsible for German naval cryptanalysis. Here, he devised a number of techniques for speeding the breaking of German ciphers, including improvements to the pre-war Polish bombe method, an electromechanical machine that could find settings for the Enigma machine. Turing played a crucial role in cracking intercepted coded messages that enabled the Allies to defeat the Axis powers in many crucial engagements, including the Battle of the Atlantic.\n"
          ]
        },
        {
          "output_type": "execute_result",
          "data": {
            "text/plain": [
              "'Alan Mathison Turing OBE FRS (/ˈtjʊərɪŋ/; 23 June 1912 – 7 June 1954) was an English mathematician, computer scientist, logician, cryptanalyst, philosopher, and theoretical biologist. Turing was highly influential in the development of theoretical computer science, providing a formalisation of the concepts of algorithm and computation with the Turing machine, which can be considered a model of a general-purpose computer. Whilst he was a fellow at Cambridge, he published a proof demonstrating that some purely mathematical yes–no questions can never be answered by computation and defined a Turing machine, and went on to prove the halting problem for Turing machines is undecidable. For a time he led Hut 8, the section that was responsible for German naval cryptanalysis.'"
            ],
            "application/vnd.google.colaboratory.intrinsic+json": {
              "type": "string"
            }
          },
          "metadata": {},
          "execution_count": 19
        }
      ],
      "source": [
        "# Example for text summerization\n",
        "TFIDF.tf_idf(text)"
      ]
    },
    {
      "cell_type": "markdown",
      "metadata": {
        "id": "FpFEgfvgOALB"
      },
      "source": [
        "# Chatterbot"
      ]
    },
    {
      "cell_type": "code",
      "source": [
        "from chatterbot import ChatBot\n",
        "from chatterbot.trainers import ChatterBotCorpusTrainer"
      ],
      "metadata": {
        "id": "BpDbbCl6fD4P"
      },
      "execution_count": null,
      "outputs": []
    },
    {
      "cell_type": "code",
      "execution_count": null,
      "metadata": {
        "colab": {
          "base_uri": "https://localhost:8080/"
        },
        "id": "i6jo7t2nNChU",
        "outputId": "be860b61-a15d-4f51-d198-c3b0f4e53acb"
      },
      "outputs": [
        {
          "output_type": "stream",
          "name": "stdout",
          "text": [
            "Training ai.yml: [####################] 100%\n",
            "Training botprofile.yml: [####################] 100%\n",
            "Training computers.yml: [####################] 100%\n",
            "Training conversations.yml: [####################] 100%\n",
            "Training emotion.yml: [####################] 100%\n",
            "Training food.yml: [####################] 100%\n",
            "Training gossip.yml: [####################] 100%\n",
            "Training greetings.yml: [####################] 100%\n",
            "Training health.yml: [####################] 100%\n",
            "Training history.yml: [####################] 100%\n",
            "Training humor.yml: [####################] 100%\n",
            "Training literature.yml: [####################] 100%\n",
            "Training money.yml: [####################] 100%\n",
            "Training movies.yml: [####################] 100%\n",
            "Training politics.yml: [####################] 100%\n",
            "Training psychology.yml: [####################] 100%\n",
            "Training science.yml: [####################] 100%\n",
            "Training sports.yml: [####################] 100%\n",
            "Training trivia.yml: [####################] 100%\n"
          ]
        }
      ],
      "source": [
        "class Chatbot:\n",
        "    # Creation of Bot\n",
        "    bot = ChatBot(\n",
        "        'Lucy',\n",
        "        preprocessors=[\n",
        "            'chatterbot.preprocessors.clean_whitespace'\n",
        "        ],\n",
        "        storage_adapter='chatterbot.storage.SQLStorageAdapter',\n",
        "        logic_adapters=[\n",
        "            {\n",
        "                'import_path': 'chatterbot.logic.BestMatch',\n",
        "                'default_response': 'I am sorry, but I do not understand.',\n",
        "                'maximum_similarity_threshold': 1.0\n",
        "            }\n",
        "        ],\n",
        "        database_uri='sqlite:///database.sqlite3',\n",
        "    )\n",
        "\n",
        "    # Training\n",
        "    trainer = ChatterBotCorpusTrainer(bot)\n",
        "    trainer.train(\n",
        "        \"chatterbot.corpus.english\"\n",
        "    )\n",
        "\n",
        "    @classmethod\n",
        "    def chatbot_response(self,message):\n",
        "        response = self.bot.get_response(message)\n",
        "        return str(response)"
      ]
    },
    {
      "cell_type": "markdown",
      "metadata": {
        "id": "ovsKYa1RN7pP"
      },
      "source": [
        "# KBot"
      ]
    },
    {
      "cell_type": "code",
      "execution_count": null,
      "metadata": {
        "id": "mhR5tcDKM6Ht"
      },
      "outputs": [],
      "source": [
        "class KBOT:\n",
        "    @classmethod\n",
        "    def kbot_response(self,message):\n",
        "        # Intent Classification\n",
        "        intents=IntentClassifier.predict(message)['label']\n",
        "        print('Intents:',intents)\n",
        "\n",
        "        # Named Entity Recognition\n",
        "        entities,query_properties=NER.named_entities(message)\n",
        "        print('Entities:',entities)\n",
        "\n",
        "\n",
        "        # Keyword Extraction\n",
        "        keywords=KE.keywords(message)\n",
        "        print('Keywords:',keywords)\n",
        "\n",
        "        # SPARQL Query Generation\n",
        "        response=SPARQL.question_to_sparql(intents,entities,keywords,query_properties)\n",
        "        print('Response after SPARQL execution:',response)\n",
        "\n",
        "        # Text Summerization\n",
        "        if response!=['Unable to retrieve data'] and response!=[]:\n",
        "            response=TFIDF.tf_idf(response[0])\n",
        "        else:\n",
        "            response='Unable to retrieve data'\n",
        "        print('Response after TF-IDF:',response)\n",
        "\n",
        "        return response"
      ]
    },
    {
      "cell_type": "markdown",
      "source": [
        "# Examples for chatbot"
      ],
      "metadata": {
        "id": "A5wxR1ZgfOP_"
      }
    },
    {
      "cell_type": "code",
      "execution_count": null,
      "metadata": {
        "colab": {
          "base_uri": "https://localhost:8080/",
          "height": 457
        },
        "id": "hpVVS0-xFxrx",
        "outputId": "5f912468-5bc0-49b5-d32c-a5896893eca9"
      },
      "outputs": [
        {
          "output_type": "stream",
          "name": "stdout",
          "text": [
            "Intents: who\n",
            "pos tags: [('who', 'WP'), ('is', 'VBZ'), ('Adolf', 'NNP'), ('Hitler', 'NNP')]\n",
            "query_proprties: []\n",
            "Entities: ['Adolf Hitler']\n",
            "Keywords: ['adolf', 'hitler']\n",
            "query: SELECT ?label ?description ?thumbnail WHERE\n",
            "                    { \n",
            "                    ?entity rdfs:label ?label .\n",
            "                    ?entity dbo:abstract ?description .\n",
            "                    ?entity dbo:thumbnail ?thumbnail .\n",
            "                    FILTER (STR(?label) = 'Adolf Hitler' && LANG(?description) = \"en\") .\n",
            "                    }\n",
            "                    LIMIT 1\n",
            "results: {'head': {'link': [], 'vars': ['label', 'description', 'thumbnail']}, 'results': {'distinct': False, 'ordered': True, 'bindings': [{'label': {'type': 'literal', 'xml:lang': 'ga', 'value': 'Adolf Hitler'}, 'description': {'type': 'literal', 'xml:lang': 'en', 'value': 'Adolf Hitler (German: [ˈadɔlf ˈhɪtlɐ]; 20 April 1889 – 30 April 1945) was an Austrian-born German politician who was the dictator of Germany from 1933 until his death in 1945. He rose to power as the leader of the Nazi Party, becoming the chancellor in 1933 and then assuming the title of Führer und Reichskanzler in 1934. During his dictatorship, he initiated World War II in Europe by invading Poland on 1 September 1939. He was closely involved in military operations throughout the war and was central to the perpetration of the Holocaust, the genocide of about six million Jews and millions of other victims. Hitler was born in Austria, then part of Austria-Hungary, and was raised near Linz. He moved to Germany in 1913, and was decorated during his service in the German Army in World War I. In 1919, he joined the German Workers\\' Party (DAP), the precursor of the Nazi Party, and was appointed leader of the Nazi Party in 1921. In 1923, he attempted to seize governmental power in a failed coup in Munich and was imprisoned with a sentence of five years. In jail, he dictated the first volume of his autobiography and political manifesto Mein Kampf (\"My Struggle\"). After his early release in 1924, Hitler gained popular support by attacking the Treaty of Versailles and promoting pan-Germanism, anti-Semitism and anti-communism with charismatic oratory and Nazi propaganda. He frequently denounced international capitalism and communism as part of a Jewish conspiracy. By November 1932, the Nazi Party held the most seats in the German Reichstag, but did not have a majority. As a result, no party was able to form a majority parliamentary coalition in support of a candidate for chancellor. Former chancellor Franz von Papen and other conservative leaders persuaded President Paul von Hindenburg to appoint Hitler as chancellor on 30 January 1933. Shortly after, the Reichstag passed the Enabling Act of 1933 which began the process of transforming the Weimar Republic into Nazi Germany, a one-party dictatorship based on the totalitarian and autocratic ideology of Nazism. Hitler aimed to eliminate Jews from Germany and establish a New Order to counter what he saw as the injustice of the post-World War I international order dominated by Britain and France. His first six years in power resulted in rapid economic recovery from the Great Depression, the abrogation of restrictions imposed on Germany after World War I, and the annexation of territories inhabited by millions of ethnic Germans, which gave him significant popular support. Hitler sought Lebensraum (lit.\\u2009\\'living space\\') for the German people in Eastern Europe, and his aggressive foreign policy is considered the primary cause of World War II in Europe. He directed large-scale rearmament and, on 1 September 1939, invaded Poland, resulting in Britain and France declaring war on Germany. In June 1941, Hitler ordered an invasion of the Soviet Union. By the end of 1941, German forces and the European Axis powers occupied most of Europe and North Africa. These gains were gradually reversed after 1941, and in 1945 the Allied armies defeated the German army. On 29 April 1945, he married his longtime lover Eva Braun in the Führerbunker in Berlin. Less than two days later, the couple committed suicide to avoid capture by the Soviet Red Army. Their corpses were burned. Historian and biographer Ian Kershaw describes Hitler as \"the embodiment of modern political evil\". Under Hitler\\'s leadership and racially motivated ideology, the Nazi regime was responsible for the genocide of about six million Jews and millions of other victims whom he and his followers deemed Untermenschen (subhumans) or socially undesirable. Hitler and the Nazi regime were also responsible for the killing of an estimated 19.3 million civilians and prisoners of war. In addition, 28.7 million soldiers and civilians died as a result of military action in the European theatre. The number of civilians killed during World War II was unprecedented in warfare, and the casualties constitute the deadliest conflict in history.'}, 'thumbnail': {'type': 'uri', 'value': 'http://commons.wikimedia.org/wiki/Special:FilePath/Hitler_portrait_crop.jpg?width=300'}}]}}\n",
            "Adolf Hitler (German: [ˈadɔlf ˈhɪtlɐ]; 20 April 1889 – 30 April 1945) was an Austrian-born German politician who was the dictator of Germany from 1933 until his death in 1945. He rose to power as the leader of the Nazi Party, becoming the chancellor in 1933 and then assuming the title of Führer und Reichskanzler in 1934. During his dictatorship, he initiated World War II in Europe by invading Poland on 1 September 1939. He was closely involved in military operations throughout the war and was central to the perpetration of the Holocaust, the genocide of about six million Jews and millions of other victims. Hitler was born in Austria, then part of Austria-Hungary, and was raised near Linz. He moved to Germany in 1913, and was decorated during his service in the German Army in World War I. In 1919, he joined the German Workers' Party (DAP), the precursor of the Nazi Party, and was appointed leader of the Nazi Party in 1921. In 1923, he attempted to seize governmental power in a failed coup in Munich and was imprisoned with a sentence of five years. In jail, he dictated the first volume of his autobiography and political manifesto Mein Kampf (\"My Struggle\"). After his early release in 1924, Hitler gained popular support by attacking the Treaty of Versailles and promoting pan-Germanism, anti-Semitism and anti-communism with charismatic oratory and Nazi propaganda. He frequently denounced international capitalism and communism as part of a Jewish conspiracy. By November 1932, the Nazi Party held the most seats in the German Reichstag, but did not have a majority. As a result, no party was able to form a majority parliamentary coalition in support of a candidate for chancellor. Former chancellor Franz von Papen and other conservative leaders persuaded President Paul von Hindenburg to appoint Hitler as chancellor on 30 January 1933. Shortly after, the Reichstag passed the Enabling Act of 1933 which began the process of transforming the Weimar Republic into Nazi Germany, a one-party dictatorship based on the totalitarian and autocratic ideology of Nazism. Hitler aimed to eliminate Jews from Germany and establish a New Order to counter what he saw as the injustice of the post-World War I international order dominated by Britain and France. His first six years in power resulted in rapid economic recovery from the Great Depression, the abrogation of restrictions imposed on Germany after World War I, and the annexation of territories inhabited by millions of ethnic Germans, which gave him significant popular support. Hitler sought Lebensraum (lit. 'living space') for the German people in Eastern Europe, and his aggressive foreign policy is considered the primary cause of World War II in Europe. He directed large-scale rearmament and, on 1 September 1939, invaded Poland, resulting in Britain and France declaring war on Germany. In June 1941, Hitler ordered an invasion of the Soviet Union. By the end of 1941, German forces and the European Axis powers occupied most of Europe and North Africa. These gains were gradually reversed after 1941, and in 1945 the Allied armies defeated the German army. On 29 April 1945, he married his longtime lover Eva Braun in the Führerbunker in Berlin. Less than two days later, the couple committed suicide to avoid capture by the Soviet Red Army. Their corpses were burned. Historian and biographer Ian Kershaw describes Hitler as \"the embodiment of modern political evil\". Under Hitler's leadership and racially motivated ideology, the Nazi regime was responsible for the genocide of about six million Jews and millions of other victims whom he and his followers deemed Untermenschen (subhumans) or socially undesirable. Hitler and the Nazi regime were also responsible for the killing of an estimated 19.3 million civilians and prisoners of war. In addition, 28.7 million soldiers and civilians died as a result of military action in the European theatre. The number of civilians killed during World War II was unprecedented in warfare, and the casualties constitute the deadliest conflict in history.\n",
            "response: [b'Adolf Hitler (German: [\\xcb\\x88ad\\xc9\\x94lf \\xcb\\x88h\\xc9\\xaatl\\xc9\\x90]; 20 April 1889 \\xe2\\x80\\x93 30 April 1945) was an Austrian-born German politician who was the dictator of Germany from 1933 until his death in 1945. He rose to power as the leader of the Nazi Party, becoming the chancellor in 1933 and then assuming the title of F\\xc3\\xbchrer und Reichskanzler in 1934. During his dictatorship, he initiated World War II in Europe by invading Poland on 1 September 1939. He was closely involved in military operations throughout the war and was central to the perpetration of the Holocaust, the genocide of about six million Jews and millions of other victims. Hitler was born in Austria, then part of Austria-Hungary, and was raised near Linz. He moved to Germany in 1913, and was decorated during his service in the German Army in World War I. In 1919, he joined the German Workers\\' Party (DAP), the precursor of the Nazi Party, and was appointed leader of the Nazi Party in 1921. In 1923, he attempted to seize governmental power in a failed coup in Munich and was imprisoned with a sentence of five years. In jail, he dictated the first volume of his autobiography and political manifesto Mein Kampf (\"My Struggle\"). After his early release in 1924, Hitler gained popular support by attacking the Treaty of Versailles and promoting pan-Germanism, anti-Semitism and anti-communism with charismatic oratory and Nazi propaganda. He frequently denounced international capitalism and communism as part of a Jewish conspiracy. By November 1932, the Nazi Party held the most seats in the German Reichstag, but did not have a majority. As a result, no party was able to form a majority parliamentary coalition in support of a candidate for chancellor. Former chancellor Franz von Papen and other conservative leaders persuaded President Paul von Hindenburg to appoint Hitler as chancellor on 30 January 1933. Shortly after, the Reichstag passed the Enabling Act of 1933 which began the process of transforming the Weimar Republic into Nazi Germany, a one-party dictatorship based on the totalitarian and autocratic ideology of Nazism. Hitler aimed to eliminate Jews from Germany and establish a New Order to counter what he saw as the injustice of the post-World War I international order dominated by Britain and France. His first six years in power resulted in rapid economic recovery from the Great Depression, the abrogation of restrictions imposed on Germany after World War I, and the annexation of territories inhabited by millions of ethnic Germans, which gave him significant popular support. Hitler sought Lebensraum (lit.\\xe2\\x80\\x89\\'living space\\') for the German people in Eastern Europe, and his aggressive foreign policy is considered the primary cause of World War II in Europe. He directed large-scale rearmament and, on 1 September 1939, invaded Poland, resulting in Britain and France declaring war on Germany. In June 1941, Hitler ordered an invasion of the Soviet Union. By the end of 1941, German forces and the European Axis powers occupied most of Europe and North Africa. These gains were gradually reversed after 1941, and in 1945 the Allied armies defeated the German army. On 29 April 1945, he married his longtime lover Eva Braun in the F\\xc3\\xbchrerbunker in Berlin. Less than two days later, the couple committed suicide to avoid capture by the Soviet Red Army. Their corpses were burned. Historian and biographer Ian Kershaw describes Hitler as \"the embodiment of modern political evil\". Under Hitler\\'s leadership and racially motivated ideology, the Nazi regime was responsible for the genocide of about six million Jews and millions of other victims whom he and his followers deemed Untermenschen (subhumans) or socially undesirable. Hitler and the Nazi regime were also responsible for the killing of an estimated 19.3 million civilians and prisoners of war. In addition, 28.7 million soldiers and civilians died as a result of military action in the European theatre. The number of civilians killed during World War II was unprecedented in warfare, and the casualties constitute the deadliest conflict in history.']\n",
            "Response after SPARQL execution: ['Adolf Hitler (German: [ˈadɔlf ˈhɪtlɐ]; 20 April 1889 – 30 April 1945) was an Austrian-born German politician who was the dictator of Germany from 1933 until his death in 1945. He rose to power as the leader of the Nazi Party, becoming the chancellor in 1933 and then assuming the title of Führer und Reichskanzler in 1934. During his dictatorship, he initiated World War II in Europe by invading Poland on 1 September 1939. He was closely involved in military operations throughout the war and was central to the perpetration of the Holocaust, the genocide of about six million Jews and millions of other victims. Hitler was born in Austria, then part of Austria-Hungary, and was raised near Linz. He moved to Germany in 1913, and was decorated during his service in the German Army in World War I. In 1919, he joined the German Workers\\' Party (DAP), the precursor of the Nazi Party, and was appointed leader of the Nazi Party in 1921. In 1923, he attempted to seize governmental power in a failed coup in Munich and was imprisoned with a sentence of five years. In jail, he dictated the first volume of his autobiography and political manifesto Mein Kampf (\"My Struggle\"). After his early release in 1924, Hitler gained popular support by attacking the Treaty of Versailles and promoting pan-Germanism, anti-Semitism and anti-communism with charismatic oratory and Nazi propaganda. He frequently denounced international capitalism and communism as part of a Jewish conspiracy. By November 1932, the Nazi Party held the most seats in the German Reichstag, but did not have a majority. As a result, no party was able to form a majority parliamentary coalition in support of a candidate for chancellor. Former chancellor Franz von Papen and other conservative leaders persuaded President Paul von Hindenburg to appoint Hitler as chancellor on 30 January 1933. Shortly after, the Reichstag passed the Enabling Act of 1933 which began the process of transforming the Weimar Republic into Nazi Germany, a one-party dictatorship based on the totalitarian and autocratic ideology of Nazism. Hitler aimed to eliminate Jews from Germany and establish a New Order to counter what he saw as the injustice of the post-World War I international order dominated by Britain and France. His first six years in power resulted in rapid economic recovery from the Great Depression, the abrogation of restrictions imposed on Germany after World War I, and the annexation of territories inhabited by millions of ethnic Germans, which gave him significant popular support. Hitler sought Lebensraum (lit.\\u2009\\'living space\\') for the German people in Eastern Europe, and his aggressive foreign policy is considered the primary cause of World War II in Europe. He directed large-scale rearmament and, on 1 September 1939, invaded Poland, resulting in Britain and France declaring war on Germany. In June 1941, Hitler ordered an invasion of the Soviet Union. By the end of 1941, German forces and the European Axis powers occupied most of Europe and North Africa. These gains were gradually reversed after 1941, and in 1945 the Allied armies defeated the German army. On 29 April 1945, he married his longtime lover Eva Braun in the Führerbunker in Berlin. Less than two days later, the couple committed suicide to avoid capture by the Soviet Red Army. Their corpses were burned. Historian and biographer Ian Kershaw describes Hitler as \"the embodiment of modern political evil\". Under Hitler\\'s leadership and racially motivated ideology, the Nazi regime was responsible for the genocide of about six million Jews and millions of other victims whom he and his followers deemed Untermenschen (subhumans) or socially undesirable. Hitler and the Nazi regime were also responsible for the killing of an estimated 19.3 million civilians and prisoners of war. In addition, 28.7 million soldiers and civilians died as a result of military action in the European theatre. The number of civilians killed during World War II was unprecedented in warfare, and the casualties constitute the deadliest conflict in history.']\n",
            "text: Adolf Hitler (German: [ˈadɔlf ˈhɪtlɐ]; 20 April 1889 – 30 April 1945) was an Austrian-born German politician who was the dictator of Germany from 1933 until his death in 1945. He rose to power as the leader of the Nazi Party, becoming the chancellor in 1933 and then assuming the title of Führer und Reichskanzler in 1934. During his dictatorship, he initiated World War II in Europe by invading Poland on 1 September 1939. He was closely involved in military operations throughout the war and was central to the perpetration of the Holocaust, the genocide of about six million Jews and millions of other victims. Hitler was born in Austria, then part of Austria-Hungary, and was raised near Linz. He moved to Germany in 1913, and was decorated during his service in the German Army in World War I. In 1919, he joined the German Workers' Party (DAP), the precursor of the Nazi Party, and was appointed leader of the Nazi Party in 1921. In 1923, he attempted to seize governmental power in a failed coup in Munich and was imprisoned with a sentence of five years. In jail, he dictated the first volume of his autobiography and political manifesto Mein Kampf (\"My Struggle\"). After his early release in 1924, Hitler gained popular support by attacking the Treaty of Versailles and promoting pan-Germanism, anti-Semitism and anti-communism with charismatic oratory and Nazi propaganda. He frequently denounced international capitalism and communism as part of a Jewish conspiracy. By November 1932, the Nazi Party held the most seats in the German Reichstag, but did not have a majority. As a result, no party was able to form a majority parliamentary coalition in support of a candidate for chancellor. Former chancellor Franz von Papen and other conservative leaders persuaded President Paul von Hindenburg to appoint Hitler as chancellor on 30 January 1933. Shortly after, the Reichstag passed the Enabling Act of 1933 which began the process of transforming the Weimar Republic into Nazi Germany, a one-party dictatorship based on the totalitarian and autocratic ideology of Nazism. Hitler aimed to eliminate Jews from Germany and establish a New Order to counter what he saw as the injustice of the post-World War I international order dominated by Britain and France. His first six years in power resulted in rapid economic recovery from the Great Depression, the abrogation of restrictions imposed on Germany after World War I, and the annexation of territories inhabited by millions of ethnic Germans, which gave him significant popular support. Hitler sought Lebensraum (lit. 'living space') for the German people in Eastern Europe, and his aggressive foreign policy is considered the primary cause of World War II in Europe. He directed large-scale rearmament and, on 1 September 1939, invaded Poland, resulting in Britain and France declaring war on Germany. In June 1941, Hitler ordered an invasion of the Soviet Union. By the end of 1941, German forces and the European Axis powers occupied most of Europe and North Africa. These gains were gradually reversed after 1941, and in 1945 the Allied armies defeated the German army. On 29 April 1945, he married his longtime lover Eva Braun in the Führerbunker in Berlin. Less than two days later, the couple committed suicide to avoid capture by the Soviet Red Army. Their corpses were burned. Historian and biographer Ian Kershaw describes Hitler as \"the embodiment of modern political evil\". Under Hitler's leadership and racially motivated ideology, the Nazi regime was responsible for the genocide of about six million Jews and millions of other victims whom he and his followers deemed Untermenschen (subhumans) or socially undesirable. Hitler and the Nazi regime were also responsible for the killing of an estimated 19.3 million civilians and prisoners of war. In addition, 28.7 million soldiers and civilians died as a result of military action in the European theatre. The number of civilians killed during World War II was unprecedented in warfare, and the casualties constitute the deadliest conflict in history.\n",
            "Response after TF-IDF: Adolf Hitler (German: [ˈadɔlf ˈhɪtlɐ]; 20 April 1889 – 30 April 1945) was an Austrian-born German politician who was the dictator of Germany from 1933 until his death in 1945. He rose to power as the leader of the Nazi Party, becoming the chancellor in 1933 and then assuming the title of Führer und Reichskanzler in 1934. Former chancellor Franz von Papen and other conservative leaders persuaded President Paul von Hindenburg to appoint Hitler as chancellor on 30 January 1933. Hitler sought Lebensraum (lit.\n"
          ]
        },
        {
          "output_type": "execute_result",
          "data": {
            "text/plain": [
              "'Adolf Hitler (German: [ˈadɔlf ˈhɪtlɐ]; 20 April 1889 – 30 April 1945) was an Austrian-born German politician who was the dictator of Germany from 1933 until his death in 1945. He rose to power as the leader of the Nazi Party, becoming the chancellor in 1933 and then assuming the title of Führer und Reichskanzler in 1934. Former chancellor Franz von Papen and other conservative leaders persuaded President Paul von Hindenburg to appoint Hitler as chancellor on 30 January 1933. Hitler sought Lebensraum (lit.'"
            ],
            "application/vnd.google.colaboratory.intrinsic+json": {
              "type": "string"
            }
          },
          "metadata": {},
          "execution_count": 23
        }
      ],
      "source": [
        "KBOT.kbot_response(\"who is Adolf Hitler\")"
      ]
    },
    {
      "cell_type": "code",
      "execution_count": null,
      "metadata": {
        "colab": {
          "base_uri": "https://localhost:8080/",
          "height": 475
        },
        "id": "MqA7hpMtLENP",
        "outputId": "a6d30c4d-3872-47ac-f938-438303250e58"
      },
      "outputs": [
        {
          "output_type": "stream",
          "name": "stdout",
          "text": [
            "Intents: who\n",
            "pos tags: [('Who', 'WP'), ('is', 'VBZ'), ('Alan', 'NNP'), ('Turing', 'NNP')]\n",
            "query_proprties: []\n",
            "Entities: ['Alan Turing']\n",
            "Keywords: ['who', 'alan', 'turing']\n",
            "query: SELECT ?label ?description ?thumbnail WHERE\n",
            "                    { \n",
            "                    ?entity rdfs:label ?label .\n",
            "                    ?entity dbo:abstract ?description .\n",
            "                    ?entity dbo:thumbnail ?thumbnail .\n",
            "                    FILTER (STR(?label) = 'Alan Turing' && LANG(?description) = \"en\") .\n",
            "                    }\n",
            "                    LIMIT 1\n",
            "results: {'head': {'link': [], 'vars': ['label', 'description', 'thumbnail']}, 'results': {'distinct': False, 'ordered': True, 'bindings': [{'label': {'type': 'literal', 'xml:lang': 'ga', 'value': 'Alan Turing'}, 'description': {'type': 'literal', 'xml:lang': 'en', 'value': 'Alan Mathison Turing OBE FRS (/ˈtjʊərɪŋ/; 23 June 1912 – 7 June 1954) was an English mathematician, computer scientist, logician, cryptanalyst, philosopher, and theoretical biologist. Turing was highly influential in the development of theoretical computer science, providing a formalisation of the concepts of algorithm and computation with the Turing machine, which can be considered a model of a general-purpose computer. Turing is widely considered to be the father of theoretical computer science and artificial intelligence. Born in Maida Vale, London, Turing was raised in southern England. He graduated at King\\'s College, Cambridge, with a degree in mathematics. Whilst he was a fellow at Cambridge, he published a proof demonstrating that some purely mathematical yes–no questions can never be answered by computation and defined a Turing machine, and went on to prove the halting problem for Turing machines is undecidable. In 1938, he obtained his PhD from the Department of Mathematics at Princeton University. During the Second World War, Turing worked for the Government Code and Cypher School (GC&CS) at Bletchley Park, Britain\\'s codebreaking centre that produced Ultra intelligence. For a time he led Hut 8, the section that was responsible for German naval cryptanalysis. Here, he devised a number of techniques for speeding the breaking of German ciphers, including improvements to the pre-war Polish bombe method, an electromechanical machine that could find settings for the Enigma machine. Turing played a crucial role in cracking intercepted coded messages that enabled the Allies to defeat the Axis powers in many crucial engagements, including the Battle of the Atlantic. After the war, Turing worked at the National Physical Laboratory, where he designed the Automatic Computing Engine (ACE), one of the first designs for a stored-program computer. In 1948, Turing joined Max Newman\\'s Computing Machine Laboratory, at the Victoria University of Manchester, where he helped develop the Manchester computers and became interested in mathematical biology. He wrote a paper on the chemical basis of morphogenesis and predicted oscillating chemical reactions such as the Belousov–Zhabotinsky reaction, first observed in the 1960s. Despite these accomplishments, he was never fully recognised in his home country during his lifetime because much of his work was covered by the Official Secrets Act. Turing was prosecuted in 1952 for homosexual acts. He accepted chemical castration treatment, with DES, as an alternative to prison. Turing died in 1954, 16 days before his 42nd birthday, from cyanide poisoning. An inquest determined his death as a suicide, but it has been noted that the known evidence is also consistent with accidental poisoning. In 2009, following an Internet campaign, British Prime Minister Gordon Brown made an on behalf of the British government for \"the appalling way he was treated\". Queen Elizabeth II granted Turing a posthumous pardon in 2013. The \"Alan Turing law\" is now an informal term for a 2017 law in the United Kingdom that retroactively pardoned men cautioned or convicted under historical legislation that outlawed homosexual acts. Turing has an extensive legacy with statues of him and many things named after him, including an annual award for computer science innovations. He appears on the current Bank of England £50 note, which was released to coincide with his birthday. A 2019 BBC series, as voted by the audience, named him the greatest person of the 20th century.'}, 'thumbnail': {'type': 'uri', 'value': 'http://commons.wikimedia.org/wiki/Special:FilePath/Alan_Turing_Aged_16.jpg?width=300'}}]}}\n",
            "Alan Mathison Turing OBE FRS (/ˈtjʊərɪŋ/; 23 June 1912 – 7 June 1954) was an English mathematician, computer scientist, logician, cryptanalyst, philosopher, and theoretical biologist. Turing was highly influential in the development of theoretical computer science, providing a formalisation of the concepts of algorithm and computation with the Turing machine, which can be considered a model of a general-purpose computer. Turing is widely considered to be the father of theoretical computer science and artificial intelligence. Born in Maida Vale, London, Turing was raised in southern England. He graduated at King's College, Cambridge, with a degree in mathematics. Whilst he was a fellow at Cambridge, he published a proof demonstrating that some purely mathematical yes–no questions can never be answered by computation and defined a Turing machine, and went on to prove the halting problem for Turing machines is undecidable. In 1938, he obtained his PhD from the Department of Mathematics at Princeton University. During the Second World War, Turing worked for the Government Code and Cypher School (GC&CS) at Bletchley Park, Britain's codebreaking centre that produced Ultra intelligence. For a time he led Hut 8, the section that was responsible for German naval cryptanalysis. Here, he devised a number of techniques for speeding the breaking of German ciphers, including improvements to the pre-war Polish bombe method, an electromechanical machine that could find settings for the Enigma machine. Turing played a crucial role in cracking intercepted coded messages that enabled the Allies to defeat the Axis powers in many crucial engagements, including the Battle of the Atlantic. After the war, Turing worked at the National Physical Laboratory, where he designed the Automatic Computing Engine (ACE), one of the first designs for a stored-program computer. In 1948, Turing joined Max Newman's Computing Machine Laboratory, at the Victoria University of Manchester, where he helped develop the Manchester computers and became interested in mathematical biology. He wrote a paper on the chemical basis of morphogenesis and predicted oscillating chemical reactions such as the Belousov–Zhabotinsky reaction, first observed in the 1960s. Despite these accomplishments, he was never fully recognised in his home country during his lifetime because much of his work was covered by the Official Secrets Act. Turing was prosecuted in 1952 for homosexual acts. He accepted chemical castration treatment, with DES, as an alternative to prison. Turing died in 1954, 16 days before his 42nd birthday, from cyanide poisoning. An inquest determined his death as a suicide, but it has been noted that the known evidence is also consistent with accidental poisoning. In 2009, following an Internet campaign, British Prime Minister Gordon Brown made an on behalf of the British government for \"the appalling way he was treated\". Queen Elizabeth II granted Turing a posthumous pardon in 2013. The \"Alan Turing law\" is now an informal term for a 2017 law in the United Kingdom that retroactively pardoned men cautioned or convicted under historical legislation that outlawed homosexual acts. Turing has an extensive legacy with statues of him and many things named after him, including an annual award for computer science innovations. He appears on the current Bank of England £50 note, which was released to coincide with his birthday. A 2019 BBC series, as voted by the audience, named him the greatest person of the 20th century.\n",
            "response: [b'Alan Mathison Turing OBE FRS (/\\xcb\\x88tj\\xca\\x8a\\xc9\\x99r\\xc9\\xaa\\xc5\\x8b/; 23 June 1912 \\xe2\\x80\\x93 7 June 1954) was an English mathematician, computer scientist, logician, cryptanalyst, philosopher, and theoretical biologist. Turing was highly influential in the development of theoretical computer science, providing a formalisation of the concepts of algorithm and computation with the Turing machine, which can be considered a model of a general-purpose computer. Turing is widely considered to be the father of theoretical computer science and artificial intelligence. Born in Maida Vale, London, Turing was raised in southern England. He graduated at King\\'s College, Cambridge, with a degree in mathematics. Whilst he was a fellow at Cambridge, he published a proof demonstrating that some purely mathematical yes\\xe2\\x80\\x93no questions can never be answered by computation and defined a Turing machine, and went on to prove the halting problem for Turing machines is undecidable. In 1938, he obtained his PhD from the Department of Mathematics at Princeton University. During the Second World War, Turing worked for the Government Code and Cypher School (GC&CS) at Bletchley Park, Britain\\'s codebreaking centre that produced Ultra intelligence. For a time he led Hut 8, the section that was responsible for German naval cryptanalysis. Here, he devised a number of techniques for speeding the breaking of German ciphers, including improvements to the pre-war Polish bombe method, an electromechanical machine that could find settings for the Enigma machine. Turing played a crucial role in cracking intercepted coded messages that enabled the Allies to defeat the Axis powers in many crucial engagements, including the Battle of the Atlantic. After the war, Turing worked at the National Physical Laboratory, where he designed the Automatic Computing Engine (ACE), one of the first designs for a stored-program computer. In 1948, Turing joined Max Newman\\'s Computing Machine Laboratory, at the Victoria University of Manchester, where he helped develop the Manchester computers and became interested in mathematical biology. He wrote a paper on the chemical basis of morphogenesis and predicted oscillating chemical reactions such as the Belousov\\xe2\\x80\\x93Zhabotinsky reaction, first observed in the 1960s. Despite these accomplishments, he was never fully recognised in his home country during his lifetime because much of his work was covered by the Official Secrets Act. Turing was prosecuted in 1952 for homosexual acts. He accepted chemical castration treatment, with DES, as an alternative to prison. Turing died in 1954, 16 days before his 42nd birthday, from cyanide poisoning. An inquest determined his death as a suicide, but it has been noted that the known evidence is also consistent with accidental poisoning. In 2009, following an Internet campaign, British Prime Minister Gordon Brown made an on behalf of the British government for \"the appalling way he was treated\". Queen Elizabeth II granted Turing a posthumous pardon in 2013. The \"Alan Turing law\" is now an informal term for a 2017 law in the United Kingdom that retroactively pardoned men cautioned or convicted under historical legislation that outlawed homosexual acts. Turing has an extensive legacy with statues of him and many things named after him, including an annual award for computer science innovations. He appears on the current Bank of England \\xc2\\xa350 note, which was released to coincide with his birthday. A 2019 BBC series, as voted by the audience, named him the greatest person of the 20th century.']\n",
            "Response after SPARQL execution: ['Alan Mathison Turing OBE FRS (/ˈtjʊərɪŋ/; 23 June 1912 – 7 June 1954) was an English mathematician, computer scientist, logician, cryptanalyst, philosopher, and theoretical biologist. Turing was highly influential in the development of theoretical computer science, providing a formalisation of the concepts of algorithm and computation with the Turing machine, which can be considered a model of a general-purpose computer. Turing is widely considered to be the father of theoretical computer science and artificial intelligence. Born in Maida Vale, London, Turing was raised in southern England. He graduated at King\\'s College, Cambridge, with a degree in mathematics. Whilst he was a fellow at Cambridge, he published a proof demonstrating that some purely mathematical yes–no questions can never be answered by computation and defined a Turing machine, and went on to prove the halting problem for Turing machines is undecidable. In 1938, he obtained his PhD from the Department of Mathematics at Princeton University. During the Second World War, Turing worked for the Government Code and Cypher School (GC&CS) at Bletchley Park, Britain\\'s codebreaking centre that produced Ultra intelligence. For a time he led Hut 8, the section that was responsible for German naval cryptanalysis. Here, he devised a number of techniques for speeding the breaking of German ciphers, including improvements to the pre-war Polish bombe method, an electromechanical machine that could find settings for the Enigma machine. Turing played a crucial role in cracking intercepted coded messages that enabled the Allies to defeat the Axis powers in many crucial engagements, including the Battle of the Atlantic. After the war, Turing worked at the National Physical Laboratory, where he designed the Automatic Computing Engine (ACE), one of the first designs for a stored-program computer. In 1948, Turing joined Max Newman\\'s Computing Machine Laboratory, at the Victoria University of Manchester, where he helped develop the Manchester computers and became interested in mathematical biology. He wrote a paper on the chemical basis of morphogenesis and predicted oscillating chemical reactions such as the Belousov–Zhabotinsky reaction, first observed in the 1960s. Despite these accomplishments, he was never fully recognised in his home country during his lifetime because much of his work was covered by the Official Secrets Act. Turing was prosecuted in 1952 for homosexual acts. He accepted chemical castration treatment, with DES, as an alternative to prison. Turing died in 1954, 16 days before his 42nd birthday, from cyanide poisoning. An inquest determined his death as a suicide, but it has been noted that the known evidence is also consistent with accidental poisoning. In 2009, following an Internet campaign, British Prime Minister Gordon Brown made an on behalf of the British government for \"the appalling way he was treated\". Queen Elizabeth II granted Turing a posthumous pardon in 2013. The \"Alan Turing law\" is now an informal term for a 2017 law in the United Kingdom that retroactively pardoned men cautioned or convicted under historical legislation that outlawed homosexual acts. Turing has an extensive legacy with statues of him and many things named after him, including an annual award for computer science innovations. He appears on the current Bank of England £50 note, which was released to coincide with his birthday. A 2019 BBC series, as voted by the audience, named him the greatest person of the 20th century.']\n",
            "text: Alan Mathison Turing OBE FRS (/ˈtjʊərɪŋ/; 23 June 1912 – 7 June 1954) was an English mathematician, computer scientist, logician, cryptanalyst, philosopher, and theoretical biologist. Turing was highly influential in the development of theoretical computer science, providing a formalisation of the concepts of algorithm and computation with the Turing machine, which can be considered a model of a general-purpose computer. Turing is widely considered to be the father of theoretical computer science and artificial intelligence. Born in Maida Vale, London, Turing was raised in southern England. He graduated at King's College, Cambridge, with a degree in mathematics. Whilst he was a fellow at Cambridge, he published a proof demonstrating that some purely mathematical yes–no questions can never be answered by computation and defined a Turing machine, and went on to prove the halting problem for Turing machines is undecidable. In 1938, he obtained his PhD from the Department of Mathematics at Princeton University. During the Second World War, Turing worked for the Government Code and Cypher School (GC&CS) at Bletchley Park, Britain's codebreaking centre that produced Ultra intelligence. For a time he led Hut 8, the section that was responsible for German naval cryptanalysis. Here, he devised a number of techniques for speeding the breaking of German ciphers, including improvements to the pre-war Polish bombe method, an electromechanical machine that could find settings for the Enigma machine. Turing played a crucial role in cracking intercepted coded messages that enabled the Allies to defeat the Axis powers in many crucial engagements, including the Battle of the Atlantic. After the war, Turing worked at the National Physical Laboratory, where he designed the Automatic Computing Engine (ACE), one of the first designs for a stored-program computer. In 1948, Turing joined Max Newman's Computing Machine Laboratory, at the Victoria University of Manchester, where he helped develop the Manchester computers and became interested in mathematical biology. He wrote a paper on the chemical basis of morphogenesis and predicted oscillating chemical reactions such as the Belousov–Zhabotinsky reaction, first observed in the 1960s. Despite these accomplishments, he was never fully recognised in his home country during his lifetime because much of his work was covered by the Official Secrets Act. Turing was prosecuted in 1952 for homosexual acts. He accepted chemical castration treatment, with DES, as an alternative to prison. Turing died in 1954, 16 days before his 42nd birthday, from cyanide poisoning. An inquest determined his death as a suicide, but it has been noted that the known evidence is also consistent with accidental poisoning. In 2009, following an Internet campaign, British Prime Minister Gordon Brown made an on behalf of the British government for \"the appalling way he was treated\". Queen Elizabeth II granted Turing a posthumous pardon in 2013. The \"Alan Turing law\" is now an informal term for a 2017 law in the United Kingdom that retroactively pardoned men cautioned or convicted under historical legislation that outlawed homosexual acts. Turing has an extensive legacy with statues of him and many things named after him, including an annual award for computer science innovations. He appears on the current Bank of England £50 note, which was released to coincide with his birthday. A 2019 BBC series, as voted by the audience, named him the greatest person of the 20th century.\n",
            "Response after TF-IDF: Alan Mathison Turing OBE FRS (/ˈtjʊərɪŋ/; 23 June 1912 – 7 June 1954) was an English mathematician, computer scientist, logician, cryptanalyst, philosopher, and theoretical biologist. Turing was highly influential in the development of theoretical computer science, providing a formalisation of the concepts of algorithm and computation with the Turing machine, which can be considered a model of a general-purpose computer. He accepted chemical castration treatment, with DES, as an alternative to prison. A 2019 BBC series, as voted by the audience, named him the greatest person of the 20th century.\n"
          ]
        },
        {
          "output_type": "execute_result",
          "data": {
            "text/plain": [
              "'Alan Mathison Turing OBE FRS (/ˈtjʊərɪŋ/; 23 June 1912 – 7 June 1954) was an English mathematician, computer scientist, logician, cryptanalyst, philosopher, and theoretical biologist. Turing was highly influential in the development of theoretical computer science, providing a formalisation of the concepts of algorithm and computation with the Turing machine, which can be considered a model of a general-purpose computer. He accepted chemical castration treatment, with DES, as an alternative to prison. A 2019 BBC series, as voted by the audience, named him the greatest person of the 20th century.'"
            ],
            "application/vnd.google.colaboratory.intrinsic+json": {
              "type": "string"
            }
          },
          "metadata": {},
          "execution_count": 24
        }
      ],
      "source": [
        "KBOT.kbot_response(\"Who is Alan Turing\")"
      ]
    },
    {
      "cell_type": "code",
      "execution_count": null,
      "metadata": {
        "colab": {
          "base_uri": "https://localhost:8080/",
          "height": 457
        },
        "id": "kKKZo5WFMowx",
        "outputId": "fee53a5f-243a-4420-8ccd-be2b800854dd"
      },
      "outputs": [
        {
          "output_type": "stream",
          "name": "stdout",
          "text": [
            "Intents: who\n",
            "pos tags: [('Who', 'WP'), ('is', 'VBZ'), ('Elon', 'NNP'), ('Musk', 'NNP')]\n",
            "query_proprties: []\n",
            "Entities: ['Elon Musk']\n",
            "Keywords: ['who', 'elon', 'musk']\n",
            "query: SELECT ?label ?description ?thumbnail WHERE\n",
            "                    { \n",
            "                    ?entity rdfs:label ?label .\n",
            "                    ?entity dbo:abstract ?description .\n",
            "                    ?entity dbo:thumbnail ?thumbnail .\n",
            "                    FILTER (STR(?label) = 'Elon Musk' && LANG(?description) = \"en\") .\n",
            "                    }\n",
            "                    LIMIT 1\n",
            "results: {'head': {'link': [], 'vars': ['label', 'description', 'thumbnail']}, 'results': {'distinct': False, 'ordered': True, 'bindings': [{'label': {'type': 'literal', 'xml:lang': 'fr', 'value': 'Elon Musk'}, 'description': {'type': 'literal', 'xml:lang': 'en', 'value': \"Elon Reeve Musk FRS (/ˈiːlɒn/; born June 28, 1971) is an entrepreneur and business magnate. He is the founder, CEO and Chief Engineer at SpaceX; early-stage investor, CEO and Product Architect of Tesla, Inc.; founder of The Boring Company; and co-founder of Neuralink and OpenAI. With an estimated net worth of around US$280 billion as of December 2021, Musk is the richest person in the world. Musk was born to a Canadian mother and South African father, and raised in Pretoria, South Africa. He briefly attended the University of Pretoria before moving to Canada at age 17 to avoid conscription. He was enrolled at Queen's University and later transferred to the University of Pennsylvania two years later, where he received a bachelor's degree in economics and physics, then moved to California in 1995 to attend Stanford University but decided instead to pursue a business career, co-founding the web software company Zip2 with his brother Kimbal. The startup was acquired by Compaq for $307 million in 1999. The same year, Musk co-founded online bank X.com, which merged with Confinity in 2000 to form PayPal. The company was bought by eBay in 2002 for $1.5 billion. In 2002, Musk founded SpaceX, an aerospace manufacturer and space transport services company, of which he is CEO and CTO. In 2004, he joined electric vehicle manufacturer Tesla Motors, Inc. (now Tesla, Inc.) as chairman and product architect, becoming its CEO in 2008. In 2006, he helped create SolarCity, a solar energy services company that was later acquired by Tesla and became Tesla Energy. In 2015, he co-founded OpenAI, a nonprofit research company that promotes friendly artificial intelligence. In 2016, he co-founded Neuralink, a neurotechnology company focused on developing brain–computer interfaces, and founded The Boring Company, a tunnel construction company. Musk has proposed the Hyperloop, a high-speed vactrain transportation system. Musk has been the subject of criticism due to unorthodox or unscientific stances and highly publicized controversies. In 2018, he was sued for defamation by a British caver who advised in the Tham Luang cave rescue; a California jury ruled in favor of Musk. In the same year, he was sued by the US Securities and Exchange Commission (SEC) for falsely tweeting that he had secured funding for a private takeover of Tesla. He settled with the SEC, temporarily stepping down from his chairmanship and agreed to limitations on his Twitter usage. Musk has spread misinformation about the COVID-19 pandemic and has received criticism from experts for his other views on such matters as artificial intelligence, cryptocurrency, and public transport.\"}, 'thumbnail': {'type': 'uri', 'value': 'http://commons.wikimedia.org/wiki/Special:FilePath/Elon_Musk_Royal_Society_(crop1).jpg?width=300'}}]}}\n",
            "Elon Reeve Musk FRS (/ˈiːlɒn/; born June 28, 1971) is an entrepreneur and business magnate. He is the founder, CEO and Chief Engineer at SpaceX; early-stage investor, CEO and Product Architect of Tesla, Inc.; founder of The Boring Company; and co-founder of Neuralink and OpenAI. With an estimated net worth of around US$280 billion as of December 2021, Musk is the richest person in the world. Musk was born to a Canadian mother and South African father, and raised in Pretoria, South Africa. He briefly attended the University of Pretoria before moving to Canada at age 17 to avoid conscription. He was enrolled at Queen's University and later transferred to the University of Pennsylvania two years later, where he received a bachelor's degree in economics and physics, then moved to California in 1995 to attend Stanford University but decided instead to pursue a business career, co-founding the web software company Zip2 with his brother Kimbal. The startup was acquired by Compaq for $307 million in 1999. The same year, Musk co-founded online bank X.com, which merged with Confinity in 2000 to form PayPal. The company was bought by eBay in 2002 for $1.5 billion. In 2002, Musk founded SpaceX, an aerospace manufacturer and space transport services company, of which he is CEO and CTO. In 2004, he joined electric vehicle manufacturer Tesla Motors, Inc. (now Tesla, Inc.) as chairman and product architect, becoming its CEO in 2008. In 2006, he helped create SolarCity, a solar energy services company that was later acquired by Tesla and became Tesla Energy. In 2015, he co-founded OpenAI, a nonprofit research company that promotes friendly artificial intelligence. In 2016, he co-founded Neuralink, a neurotechnology company focused on developing brain–computer interfaces, and founded The Boring Company, a tunnel construction company. Musk has proposed the Hyperloop, a high-speed vactrain transportation system. Musk has been the subject of criticism due to unorthodox or unscientific stances and highly publicized controversies. In 2018, he was sued for defamation by a British caver who advised in the Tham Luang cave rescue; a California jury ruled in favor of Musk. In the same year, he was sued by the US Securities and Exchange Commission (SEC) for falsely tweeting that he had secured funding for a private takeover of Tesla. He settled with the SEC, temporarily stepping down from his chairmanship and agreed to limitations on his Twitter usage. Musk has spread misinformation about the COVID-19 pandemic and has received criticism from experts for his other views on such matters as artificial intelligence, cryptocurrency, and public transport.\n",
            "response: [b\"Elon Reeve Musk FRS (/\\xcb\\x88i\\xcb\\x90l\\xc9\\x92n/; born June 28, 1971) is an entrepreneur and business magnate. He is the founder, CEO and Chief Engineer at SpaceX; early-stage investor, CEO and Product Architect of Tesla, Inc.; founder of The Boring Company; and co-founder of Neuralink and OpenAI. With an estimated net worth of around US$280 billion as of December 2021, Musk is the richest person in the world. Musk was born to a Canadian mother and South African father, and raised in Pretoria, South Africa. He briefly attended the University of Pretoria before moving to Canada at age 17 to avoid conscription. He was enrolled at Queen's University and later transferred to the University of Pennsylvania two years later, where he received a bachelor's degree in economics and physics, then moved to California in 1995 to attend Stanford University but decided instead to pursue a business career, co-founding the web software company Zip2 with his brother Kimbal. The startup was acquired by Compaq for $307 million in 1999. The same year, Musk co-founded online bank X.com, which merged with Confinity in 2000 to form PayPal. The company was bought by eBay in 2002 for $1.5 billion. In 2002, Musk founded SpaceX, an aerospace manufacturer and space transport services company, of which he is CEO and CTO. In 2004, he joined electric vehicle manufacturer Tesla Motors, Inc. (now Tesla, Inc.) as chairman and product architect, becoming its CEO in 2008. In 2006, he helped create SolarCity, a solar energy services company that was later acquired by Tesla and became Tesla Energy. In 2015, he co-founded OpenAI, a nonprofit research company that promotes friendly artificial intelligence. In 2016, he co-founded Neuralink, a neurotechnology company focused on developing brain\\xe2\\x80\\x93computer interfaces, and founded The Boring Company, a tunnel construction company. Musk has proposed the Hyperloop, a high-speed vactrain transportation system. Musk has been the subject of criticism due to unorthodox or unscientific stances and highly publicized controversies. In 2018, he was sued for defamation by a British caver who advised in the Tham Luang cave rescue; a California jury ruled in favor of Musk. In the same year, he was sued by the US Securities and Exchange Commission (SEC) for falsely tweeting that he had secured funding for a private takeover of Tesla. He settled with the SEC, temporarily stepping down from his chairmanship and agreed to limitations on his Twitter usage. Musk has spread misinformation about the COVID-19 pandemic and has received criticism from experts for his other views on such matters as artificial intelligence, cryptocurrency, and public transport.\"]\n",
            "Response after SPARQL execution: [\"Elon Reeve Musk FRS (/ˈiːlɒn/; born June 28, 1971) is an entrepreneur and business magnate. He is the founder, CEO and Chief Engineer at SpaceX; early-stage investor, CEO and Product Architect of Tesla, Inc.; founder of The Boring Company; and co-founder of Neuralink and OpenAI. With an estimated net worth of around US$280 billion as of December 2021, Musk is the richest person in the world. Musk was born to a Canadian mother and South African father, and raised in Pretoria, South Africa. He briefly attended the University of Pretoria before moving to Canada at age 17 to avoid conscription. He was enrolled at Queen's University and later transferred to the University of Pennsylvania two years later, where he received a bachelor's degree in economics and physics, then moved to California in 1995 to attend Stanford University but decided instead to pursue a business career, co-founding the web software company Zip2 with his brother Kimbal. The startup was acquired by Compaq for $307 million in 1999. The same year, Musk co-founded online bank X.com, which merged with Confinity in 2000 to form PayPal. The company was bought by eBay in 2002 for $1.5 billion. In 2002, Musk founded SpaceX, an aerospace manufacturer and space transport services company, of which he is CEO and CTO. In 2004, he joined electric vehicle manufacturer Tesla Motors, Inc. (now Tesla, Inc.) as chairman and product architect, becoming its CEO in 2008. In 2006, he helped create SolarCity, a solar energy services company that was later acquired by Tesla and became Tesla Energy. In 2015, he co-founded OpenAI, a nonprofit research company that promotes friendly artificial intelligence. In 2016, he co-founded Neuralink, a neurotechnology company focused on developing brain–computer interfaces, and founded The Boring Company, a tunnel construction company. Musk has proposed the Hyperloop, a high-speed vactrain transportation system. Musk has been the subject of criticism due to unorthodox or unscientific stances and highly publicized controversies. In 2018, he was sued for defamation by a British caver who advised in the Tham Luang cave rescue; a California jury ruled in favor of Musk. In the same year, he was sued by the US Securities and Exchange Commission (SEC) for falsely tweeting that he had secured funding for a private takeover of Tesla. He settled with the SEC, temporarily stepping down from his chairmanship and agreed to limitations on his Twitter usage. Musk has spread misinformation about the COVID-19 pandemic and has received criticism from experts for his other views on such matters as artificial intelligence, cryptocurrency, and public transport.\"]\n",
            "text: Elon Reeve Musk FRS (/ˈiːlɒn/; born June 28, 1971) is an entrepreneur and business magnate. He is the founder, CEO and Chief Engineer at SpaceX; early-stage investor, CEO and Product Architect of Tesla, Inc.; founder of The Boring Company; and co-founder of Neuralink and OpenAI. With an estimated net worth of around US$280 billion as of December 2021, Musk is the richest person in the world. Musk was born to a Canadian mother and South African father, and raised in Pretoria, South Africa. He briefly attended the University of Pretoria before moving to Canada at age 17 to avoid conscription. He was enrolled at Queen's University and later transferred to the University of Pennsylvania two years later, where he received a bachelor's degree in economics and physics, then moved to California in 1995 to attend Stanford University but decided instead to pursue a business career, co-founding the web software company Zip2 with his brother Kimbal. The startup was acquired by Compaq for $307 million in 1999. The same year, Musk co-founded online bank X.com, which merged with Confinity in 2000 to form PayPal. The company was bought by eBay in 2002 for $1.5 billion. In 2002, Musk founded SpaceX, an aerospace manufacturer and space transport services company, of which he is CEO and CTO. In 2004, he joined electric vehicle manufacturer Tesla Motors, Inc. (now Tesla, Inc.) as chairman and product architect, becoming its CEO in 2008. In 2006, he helped create SolarCity, a solar energy services company that was later acquired by Tesla and became Tesla Energy. In 2015, he co-founded OpenAI, a nonprofit research company that promotes friendly artificial intelligence. In 2016, he co-founded Neuralink, a neurotechnology company focused on developing brain–computer interfaces, and founded The Boring Company, a tunnel construction company. Musk has proposed the Hyperloop, a high-speed vactrain transportation system. Musk has been the subject of criticism due to unorthodox or unscientific stances and highly publicized controversies. In 2018, he was sued for defamation by a British caver who advised in the Tham Luang cave rescue; a California jury ruled in favor of Musk. In the same year, he was sued by the US Securities and Exchange Commission (SEC) for falsely tweeting that he had secured funding for a private takeover of Tesla. He settled with the SEC, temporarily stepping down from his chairmanship and agreed to limitations on his Twitter usage. Musk has spread misinformation about the COVID-19 pandemic and has received criticism from experts for his other views on such matters as artificial intelligence, cryptocurrency, and public transport.\n",
            "Response after TF-IDF: Elon Reeve Musk FRS (/ˈiːlɒn/; born June 28, 1971) is an entrepreneur and business magnate. He is the founder, CEO and Chief Engineer at SpaceX; early-stage investor, CEO and Product Architect of Tesla, Inc.; founder of The Boring Company; and co-founder of Neuralink and OpenAI. Musk has proposed the Hyperloop, a high-speed vactrain transportation system. In 2018, he was sued for defamation by a British caver who advised in the Tham Luang cave rescue; a California jury ruled in favor of Musk.\n"
          ]
        },
        {
          "output_type": "execute_result",
          "data": {
            "text/plain": [
              "'Elon Reeve Musk FRS (/ˈiːlɒn/; born June 28, 1971) is an entrepreneur and business magnate. He is the founder, CEO and Chief Engineer at SpaceX; early-stage investor, CEO and Product Architect of Tesla, Inc.; founder of The Boring Company; and co-founder of Neuralink and OpenAI. Musk has proposed the Hyperloop, a high-speed vactrain transportation system. In 2018, he was sued for defamation by a British caver who advised in the Tham Luang cave rescue; a California jury ruled in favor of Musk.'"
            ],
            "application/vnd.google.colaboratory.intrinsic+json": {
              "type": "string"
            }
          },
          "metadata": {},
          "execution_count": 25
        }
      ],
      "source": [
        "KBOT.kbot_response(\"Who is Elon Musk\")"
      ]
    },
    {
      "cell_type": "markdown",
      "metadata": {
        "id": "aUPbMzEQb5eG"
      },
      "source": [
        "# Templates Creation"
      ]
    },
    {
      "cell_type": "code",
      "execution_count": null,
      "metadata": {
        "id": "YuqDfH9Jb36O"
      },
      "outputs": [],
      "source": [
        "import os\n",
        "\n",
        "os.mkdir(\"templates\")\n",
        "os.mkdir(\"static\")\n",
        "os.mkdir(\"static/css\")\n",
        "os.mkdir(\"static/js\")\n",
        "\n",
        "with open(\"/content/drive/MyDrive/Colab Notebooks/templates/index.html\",'r') as f1, open(\"templates/index.html\",'w') as f2:\n",
        "  for line in f1:\n",
        "    f2.write(line)\n",
        "f1.close()\n",
        "f2.close()\n",
        "\n",
        "with open(\"/content/drive/MyDrive/Colab Notebooks/static/css/style.css\",'r') as f1, open(\"static/css/style.css\",'w') as f2:\n",
        "  for line in f1:\n",
        "    f2.write(line)\n",
        "f1.close()\n",
        "f2.close()\n",
        "\n",
        "with open(\"/content/drive/MyDrive/Colab Notebooks/static/js/app.js\",'r') as f1, open(\"static/js/app.js\",'w') as f2:\n",
        "  for line in f1:\n",
        "    f2.write(line)\n",
        "f1.close()\n",
        "f2.close()"
      ]
    },
    {
      "cell_type": "markdown",
      "metadata": {
        "id": "XHeDSFN0NxG-"
      },
      "source": [
        "# Flask App Creation"
      ]
    },
    {
      "cell_type": "code",
      "execution_count": null,
      "metadata": {
        "id": "miXOw0gUMeQX"
      },
      "outputs": [],
      "source": [
        "from flask import Flask, render_template, request\n",
        "from flask_ngrok import run_with_ngrok\n",
        "\n",
        "# Flask app creation\n",
        "app = Flask(__name__)\n",
        "run_with_ngrok(app)"
      ]
    },
    {
      "cell_type": "markdown",
      "metadata": {
        "id": "z9EcfXs1NdHI"
      },
      "source": [
        "# Routing to Views"
      ]
    },
    {
      "cell_type": "code",
      "execution_count": null,
      "metadata": {
        "id": "NP1FHlpIMSjf"
      },
      "outputs": [],
      "source": [
        "# Routes\n",
        "@app.route(\"/\")\n",
        "def index():\n",
        "    return render_template(\"index.html\")\n",
        "\n",
        "@app.route('/get')\n",
        "def get_bot_response():\n",
        "    # Getting user's question\n",
        "    userText = request.args.get('msg')\n",
        "    if userText==\"\":\n",
        "        return \"Please ask a question.\" \n",
        "    if userText=='What can you do.' or userText=='What can you do?' or userText=='what can you do.' or userText=='what can you do?' or userText=='What can you do' or userText=='what can you do':\n",
        "        return \"You can chat with me, ask questions and I can bring you answers from Linked Data.\"\n",
        "    \n",
        "    # Getting response from chatterbot\n",
        "    response=Chatbot.chatbot_response(str(userText))\n",
        "    if response!='I am sorry, but I do not understand.':\n",
        "        return response\n",
        "    \n",
        "    # Getting response from knowledge bases\n",
        "    response=KBOT.kbot_response(str(userText))\n",
        "    if response=='Unable to retrieve data':\n",
        "        return 'I am sorry, but I do not understand.'\n",
        "    \n",
        "    return response"
      ]
    },
    {
      "cell_type": "markdown",
      "metadata": {
        "id": "Br5nJ9bHNKOJ"
      },
      "source": [
        "# Running Flask App"
      ]
    },
    {
      "cell_type": "code",
      "execution_count": null,
      "metadata": {
        "colab": {
          "base_uri": "https://localhost:8080/"
        },
        "id": "huk7mj7aGzZp",
        "outputId": "f37b63fe-f0d2-4910-bd27-44d8f6ad581e"
      },
      "outputs": [
        {
          "output_type": "stream",
          "name": "stdout",
          "text": [
            " * Serving Flask app \"__main__\" (lazy loading)\n",
            " * Environment: production\n",
            "\u001b[31m   WARNING: This is a development server. Do not use it in a production deployment.\u001b[0m\n",
            "\u001b[2m   Use a production WSGI server instead.\u001b[0m\n",
            " * Debug mode: off\n"
          ]
        },
        {
          "output_type": "stream",
          "name": "stderr",
          "text": [
            " * Running on http://127.0.0.1:5000/ (Press CTRL+C to quit)\n"
          ]
        },
        {
          "output_type": "stream",
          "name": "stdout",
          "text": [
            " * Running on http://90c1-35-224-95-180.ngrok.io\n",
            " * Traffic stats available on http://127.0.0.1:4040\n"
          ]
        }
      ],
      "source": [
        "if __name__ == \"__main__\":\n",
        "    app.run()"
      ]
    }
  ],
  "metadata": {
    "accelerator": "GPU",
    "colab": {
      "collapsed_sections": [],
      "name": "SPARQL Bot.ipynb",
      "provenance": [],
      "include_colab_link": true
    },
    "kernelspec": {
      "display_name": "Python 3",
      "name": "python3"
    },
    "language_info": {
      "name": "python"
    }
  },
  "nbformat": 4,
  "nbformat_minor": 0
}